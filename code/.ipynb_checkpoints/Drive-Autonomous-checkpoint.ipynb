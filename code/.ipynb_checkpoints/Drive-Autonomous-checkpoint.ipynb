{
 "cells": [
  {
   "cell_type": "code",
   "execution_count": null,
   "metadata": {
    "scrolled": true
   },
   "outputs": [],
   "source": [
    "import numpy as np\n",
    "import os\n",
    "import pandas as pd\n",
    "import PIL\n",
    "import PIL.Image\n",
    "from sklearn.utils import shuffle\n",
    "from matplotlib import pyplot as plt\n",
    "\n",
    "from keras.models import Sequential, Model\n",
    "from keras.layers import Input, merge, Activation\n",
    "from keras.layers.core import Flatten, Dense, Dropout, Lambda\n",
    "from keras.layers.normalization import BatchNormalization\n",
    "from keras.optimizers import Adam\n",
    "from keras.metrics import categorical_crossentropy, categorical_accuracy\n",
    "from keras.layers.convolutional import *\n",
    "from keras.callbacks import CSVLogger, ModelCheckpoint\n",
    "from keras.models import model_from_json\n",
    "\n",
    "import base64\n",
    "from datetime import datetime\n",
    "import os\n",
    "import shutil\n",
    "import numpy as np\n",
    "import socketio\n",
    "import eventlet.wsgi\n",
    "from PIL import Image\n",
    "from flask import Flask\n",
    "from io import BytesIO"
   ]
  },
  {
   "cell_type": "markdown",
   "metadata": {},
   "source": [
    "# Intro"
   ]
  },
  {
   "cell_type": "markdown",
   "metadata": {},
   "source": [
    "We will comunicate with the simulator using a simple Flask Web App using HTTP requests. \n",
    "\n",
    "We will first load the model weights we have trained earlier, then create a simple Flask Web app to comunicate with the simulator. What will happen is that the simulator will keep sending us images of what the car \"sees\" and we'll send it back our model prediction, which was the steering direction"
   ]
  },
  {
   "cell_type": "markdown",
   "metadata": {},
   "source": [
    "### Side Note \n",
    "\n",
    "We need to apply the same transformation here as we did on the training data. If you remember, we defined a ***crop()*** function in order to keep the just the road from the images. As a result, we must to the same thing here, when making inferences on new data.\n",
    "\n",
    "We have copy-pasted below the function used in the previous notebook, and if by any chance you used another values for cropping, please replace them here as well"
   ]
  },
  {
   "cell_type": "code",
   "execution_count": null,
   "metadata": {
    "collapsed": true
   },
   "outputs": [],
   "source": [
    "def crop(image):\n",
    "    return image[60:-25, :, :]"
   ]
  },
  {
   "cell_type": "markdown",
   "metadata": {},
   "source": [
    "# Load model "
   ]
  },
  {
   "cell_type": "markdown",
   "metadata": {},
   "source": [
    "### Information"
   ]
  },
  {
   "cell_type": "markdown",
   "metadata": {},
   "source": [
    "We need to read the model weights and the model's architecture from the files we have written previously. We have provided a simple helper function called ***load_model_from_json_and_weights*** which will to exactly that"
   ]
  },
  {
   "cell_type": "markdown",
   "metadata": {},
   "source": [
    "### Provided code"
   ]
  },
  {
   "cell_type": "code",
   "execution_count": null,
   "metadata": {
    "collapsed": true
   },
   "outputs": [],
   "source": [
    "def load_model_from_json_and_weights(json_path, weights_path):\n",
    "    with open(json_path, 'r') as json_file:\n",
    "        loaded_model_json = json_file.read()\n",
    "\n",
    "    model = model_from_json(loaded_model_json)\n",
    "    model.load_weights(weights_path)\n",
    "\n",
    "    return model\n"
   ]
  },
  {
   "cell_type": "markdown",
   "metadata": {},
   "source": [
    "### Code Example"
   ]
  },
  {
   "cell_type": "markdown",
   "metadata": {},
   "source": [
    "You can use the given function as simple as this:\n",
    "```python\n",
    "model = load_model_from_json_and_weights(JSON_PATH, WEIGHTS_PATH)\n",
    "```"
   ]
  },
  {
   "cell_type": "code",
   "execution_count": null,
   "metadata": {},
   "outputs": [],
   "source": [
    "#Your code here\n",
    "\n",
    "\n",
    "model = load_model_from_json_and_weights(\"../provided_model/provided_model_architecture.json\", \n",
    "                                         \"../provided_model/provided_model_weights.h5\")"
   ]
  },
  {
   "cell_type": "markdown",
   "metadata": {},
   "source": [
    "[Answer](http://localhost:8887/edit/clujai_workspace/clujAI-self-driving-car-workshop/answers/load_model_answer.py)"
   ]
  },
  {
   "cell_type": "markdown",
   "metadata": {},
   "source": [
    "# Start Web Server"
   ]
  },
  {
   "cell_type": "markdown",
   "metadata": {},
   "source": [
    "### Information"
   ]
  },
  {
   "cell_type": "markdown",
   "metadata": {},
   "source": [
    "Just run the code below in order to initialize the server"
   ]
  },
  {
   "cell_type": "markdown",
   "metadata": {},
   "source": [
    "### Provided Code"
   ]
  },
  {
   "cell_type": "code",
   "execution_count": null,
   "metadata": {
    "collapsed": true
   },
   "outputs": [],
   "source": [
    "def start_web_server():\n",
    "    sio = socketio.Server()\n",
    "    app = Flask(__name__)\n",
    "\n",
    "\n",
    "    @sio.on('telemetry')\n",
    "    def telemetry(sid, data):\n",
    "        max_speed = 25\n",
    "        if data:\n",
    "            # The current steering angle of the car\n",
    "            steering_angle = float(data[\"steering_angle\"])\n",
    "            # The current throttle of the car, how hard to push peddle\n",
    "            throttle = float(data[\"throttle\"])\n",
    "            # The current speed of the car\n",
    "            speed = float(data[\"speed\"])\n",
    "            # The current image from the center camera of the car\n",
    "            image = Image.open(BytesIO(base64.b64decode(data[\"image\"])))\n",
    "            try:\n",
    "                image = np.asarray(image)       # from PIL image to numpy array\n",
    "                image = crop(image) # apply the preprocessing\n",
    "                image = np.array([image])       # the model expects 4D array\n",
    "                image = np.transpose(image,(0,3,1,2))\n",
    "\n",
    "                # predict the steering angle for the image\n",
    "                steering_angle = float(model.predict(image, batch_size=1))\n",
    "\n",
    "                throttle = 1.0 - steering_angle**2 - (speed/max_speed)**2\n",
    "\n",
    "                print('{} {} {}'.format(steering_angle, throttle, speed))\n",
    "                send_control(steering_angle, throttle)\n",
    "            except Exception as e:\n",
    "                print(e)\n",
    "        else:\n",
    "\n",
    "            sio.emit('manual', data={}, skip_sid=True)\n",
    "\n",
    "\n",
    "    @sio.on('connect')\n",
    "    def connect(sid, environ):\n",
    "        print(\"connect \", sid)\n",
    "        send_control(0, 0)\n",
    "\n",
    "\n",
    "    def send_control(steering_angle, throttle):\n",
    "        sio.emit(\n",
    "            \"steer\",\n",
    "            data={\n",
    "                'steering_angle': steering_angle.__str__(),\n",
    "                'throttle': throttle.__str__()\n",
    "            },\n",
    "            skip_sid=True)\n",
    "\n",
    "\n",
    "    app = socketio.Middleware(sio, app)\n",
    "    eventlet.wsgi.server(eventlet.listen(('', 4567)), app)    "
   ]
  },
  {
   "cell_type": "code",
   "execution_count": null,
   "metadata": {},
   "outputs": [],
   "source": [
    "start_web_server()"
   ]
  },
  {
   "cell_type": "code",
   "execution_count": null,
   "metadata": {
    "collapsed": true
   },
   "outputs": [],
   "source": []
  },
  {
   "cell_type": "code",
   "execution_count": null,
   "metadata": {
    "collapsed": true
   },
   "outputs": [],
   "source": []
  },
  {
   "cell_type": "code",
   "execution_count": null,
   "metadata": {
    "collapsed": true
   },
   "outputs": [],
   "source": []
  }
 ],
 "metadata": {
  "kernelspec": {
   "display_name": "Python 2",
   "language": "python",
   "name": "python2"
  },
  "language_info": {
   "codemirror_mode": {
    "name": "ipython",
    "version": 2
   },
   "file_extension": ".py",
   "mimetype": "text/x-python",
   "name": "python",
   "nbconvert_exporter": "python",
   "pygments_lexer": "ipython2",
   "version": "2.7.13"
  },
  "widgets": {
   "state": {},
   "version": "1.1.2"
  }
 },
 "nbformat": 4,
 "nbformat_minor": 1
}
